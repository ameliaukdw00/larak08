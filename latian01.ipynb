{
 "cells": [
  {
   "cell_type": "code",
   "execution_count": 2,
   "metadata": {},
   "outputs": [
    {
     "name": "stdout",
     "output_type": "stream",
     "text": [
      "mata anagram dengan atma, maat, taam, tama dan nagram dengan atma, maat, bukan anagram.\n"
     ]
    }
   ],
   "source": [
    "def is_anagram(word1, word2):\n",
    "    # Mengubah kedua kata menjadi lowercase untuk menghindari perbedaan besar kecil huruf\n",
    "    word1 = word1.lower()\n",
    "    word2 = word2.lower()\n",
    "\n",
    "    # Mengurutkan huruf-huruf dalam kata-kata\n",
    "    sorted_word1 = sorted(word1)\n",
    "    sorted_word2 = sorted(word2)\n",
    "\n",
    "    # Membandingkan kata-kata yang sudah diurutkan\n",
    "    if sorted_word1 == sorted_word2:\n",
    "        return True\n",
    "    else:\n",
    "        return False\n",
    "\n",
    "# Membaca input dari pengguna\n",
    "kata1 = input(\"Masukkan kata pertama: \")\n",
    "kata2 = input(\"Masukkan kata kedua: \")\n",
    "\n",
    "# Memeriksa apakah kedua kata adalah anagram\n",
    "if is_anagram(kata1, kata2):\n",
    "    print(f\"{kata1} dan {kata2} adalah anagram.\")\n",
    "else:\n",
    "    print(f\"{kata1} dan {kata2} bukan anagram.\")\n"
   ]
  },
  {
   "cell_type": "code",
   "execution_count": 3,
   "metadata": {},
   "outputs": [
    {
     "name": "stdout",
     "output_type": "stream",
     "text": [
      "makan ada 2 buah\n"
     ]
    }
   ],
   "source": [
    "def hitung_kemunculan_kata(kalimat, kata):\n",
    "    # Mengubah kalimat dan kata menjadi lowercase untuk menghindari perbedaan besar kecil huruf\n",
    "    kalimat = kalimat.lower()\n",
    "    kata = kata.lower()\n",
    "\n",
    "    # Memecah kalimat menjadi kata-kata\n",
    "    kata_kalimat = kalimat.split()\n",
    "\n",
    "    # Menghitung kemunculan kata\n",
    "    kemunculan = kata_kalimat.count(kata)\n",
    "    \n",
    "    return kemunculan\n",
    "\n",
    "# Kalimat yang diberikan\n",
    "kalimat = \"Saya mau makan. Makan itu wajib. Mau siang atau malam saya wajib makan\"\n",
    "# Kata yang ingin dicari frekuensinya\n",
    "kata_dicari = \"makan\"\n",
    "\n",
    "# Menghitung frekuensi kemunculan kata\n",
    "frekuensi = hitung_kemunculan_kata(kalimat, kata_dicari)\n",
    "\n",
    "# Menampilkan hasil\n",
    "print(f\"{kata_dicari} ada {frekuensi} buah\")\n"
   ]
  },
  {
   "cell_type": "code",
   "execution_count": 4,
   "metadata": {},
   "outputs": [
    {
     "name": "stdout",
     "output_type": "stream",
     "text": [
      "String setelah menghapus spasi berlebih: saya tidak suka memancing ikan\n"
     ]
    }
   ],
   "source": [
    "import re\n",
    "\n",
    "def hapus_spasi_berlebih(string):\n",
    "    # Mengganti setiap keberadaan spasi beruntun dengan satu spasi\n",
    "    string_tanpa_spasi_berlebih = re.sub(r'\\s+', ' ', string)\n",
    "    # Menghapus spasi di awal dan akhir string\n",
    "    string_tanpa_spasi_berlebih = string_tanpa_spasi_berlebih.strip()\n",
    "    return string_tanpa_spasi_berlebih\n",
    "\n",
    "# String yang diberikan\n",
    "string_awal = \"saya tidak suka   memancing ikan \"\n",
    "# Menghapus spasi berlebih\n",
    "string_hasil = hapus_spasi_berlebih(string_awal)\n",
    "\n",
    "# Menampilkan hasil\n",
    "print(\"String setelah menghapus spasi berlebih:\", string_hasil)\n"
   ]
  },
  {
   "cell_type": "code",
   "execution_count": 5,
   "metadata": {},
   "outputs": [
    {
     "name": "stdout",
     "output_type": "stream",
     "text": [
      "Terpendek: a\n",
      "Terpanjang: snakes\n"
     ]
    }
   ],
   "source": [
    "def kata_terpendek_terpanjang(kalimat):\n",
    "    # Memecah kalimat menjadi kata-kata\n",
    "    kata_kalimat = kalimat.split()\n",
    "\n",
    "    # Mencari kata terpendek dan terpanjang\n",
    "    terpendek = min(kata_kalimat, key=len)\n",
    "    terpanjang = max(kata_kalimat, key=len)\n",
    "\n",
    "    return terpendek, terpanjang\n",
    "\n",
    "# Kalimat yang diberikan\n",
    "kalimat = \"red snakes and a black frog in the pool\"\n",
    "# Memanggil fungsi untuk menemukan kata terpendek dan terpanjang\n",
    "kata_terpendek, kata_terpanjang = kata_terpendek_terpanjang(kalimat)\n",
    "\n",
    "# Menampilkan hasil\n",
    "print(\"Terpendek:\", kata_terpendek)\n",
    "print(\"Terpanjang:\", kata_terpanjang)\n"
   ]
  }
 ],
 "metadata": {
  "kernelspec": {
   "display_name": "Python 3",
   "language": "python",
   "name": "python3"
  },
  "language_info": {
   "codemirror_mode": {
    "name": "ipython",
    "version": 3
   },
   "file_extension": ".py",
   "mimetype": "text/x-python",
   "name": "python",
   "nbconvert_exporter": "python",
   "pygments_lexer": "ipython3",
   "version": "3.12.2"
  }
 },
 "nbformat": 4,
 "nbformat_minor": 2
}
